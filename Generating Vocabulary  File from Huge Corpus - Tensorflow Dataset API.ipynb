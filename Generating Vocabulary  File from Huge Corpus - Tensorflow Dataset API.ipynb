{
 "cells": [
  {
   "cell_type": "code",
   "execution_count": 1,
   "metadata": {
    "collapsed": true
   },
   "outputs": [],
   "source": [
    "import tensorflow as tf\n",
    "import numpy as np\n",
    "import codecs\n",
    "import time\n",
    "import logging\n",
    "import sys\n",
    "import re\n",
    "import string\n",
    "import os\n",
    "from collections import Counter"
   ]
  },
  {
   "cell_type": "code",
   "execution_count": 4,
   "metadata": {},
   "outputs": [
    {
     "name": "stdout",
     "output_type": "stream",
     "text": [
      "3.6.1 |Anaconda 4.4.0 (64-bit)| (default, May 11 2017, 13:25:24) [MSC v.1900 64 bit (AMD64)]\n",
      "Tensorflow version 1.2.0\n"
     ]
    }
   ],
   "source": [
    "print(sys.version)\n",
    "print(\"Tensorflow version {}\".format(tf.__version__))"
   ]
  },
  {
   "cell_type": "code",
   "execution_count": 5,
   "metadata": {
    "collapsed": true
   },
   "outputs": [],
   "source": [
    "def _preprocess(line):\n",
    "    '''\n",
    "    performs the following preprocessing on a line of text.\n",
    "    - lower case the text\n",
    "    - remove punctuations\n",
    "    - try alternate decoding if utf-8 fails\n",
    "    - encode string as utf-8\n",
    "    Note this is a pyfunc as tensorflow doesn't seem to have string operations beyond splitting\n",
    "    \n",
    "    Returns: a utf-8 encoded processed string\n",
    "    '''\n",
    "    try:\n",
    "        line = line.decode('utf-8')\n",
    "        line = line.lower()\n",
    "        line = line.strip()\n",
    "        line = re.sub('['+string.punctuation+']', '', line)\n",
    "    except:\n",
    "        try:\n",
    "            line = line.decode('iso-8859-1')\n",
    "            line = line.lower()\n",
    "            line = re.sub('['+string.punctuation+']', '', line)\n",
    "        except:\n",
    "            return line.lower()\n",
    "    return line.encode('utf-8')\n",
    "\n",
    "def _add_vocab_file_generator(text_files):\n",
    "    '''\n",
    "    generates a vocabulary file processing block to the current graph. It uses TF 1.2 new Dataset API\n",
    "    to process a list of files and split it in to tokens required for vocabulary generation\n",
    "    \n",
    "    Arguments: 1-D tensor of file names\n",
    "    Returns: A iterator that returns a list of tokens per line.\n",
    "    '''\n",
    "    with tf.name_scope('vocab_gen') as scope:\n",
    "        # create a dataset from list of file names\n",
    "        dataset = tf.contrib.data.Dataset.from_tensor_slices(tf.constant(text_files))\n",
    "        # generate a list of lines from files\n",
    "        dataset = dataset.flat_map(lambda filename: tf.contrib.data.TextLineDataset(filename))\n",
    "        # preprocess each line to lower case, remove punctuation chars\n",
    "        dataset = dataset.map(lambda line: tf.py_func(_preprocess,[line], [tf.string]))\n",
    "        # basic tokenization - space\n",
    "        dataset = dataset.map(lambda line: tf.string_split([line]).values)\n",
    "        # make a one shot iterator\n",
    "        iterator = dataset.make_one_shot_iterator()\n",
    "        next_line = iterator.get_next()\n",
    "        return next_line\n",
    "\n",
    "\n",
    "def gen_vocab_file(file_names, vocabulary_file='./data/vocab.txt', max_vocab_size=None,markers = True, reset_graph=False):\n",
    "    '''\n",
    "    generates the vocabulary file specified by vocabulary file by iterating through the iterator returned by\n",
    "    _add_vocab_file_generator.\n",
    "    \n",
    "    Arguments:\n",
    "    file_names - a list of filenames to process\n",
    "    vocabulary_file - the name of output file\n",
    "    max_vocab_size - the maximum number of words in the vocabulary. None implies all words will be included, else\n",
    "                     only the max_vocab_size common words will be included\n",
    "    markers - add the mandatory <UNK>, <SOS>, <EOS> markers to the beginning of vocab file\n",
    "    reset_graph - reset current graph before running this function.\n",
    "    \n",
    "    Note: Gives some issues on Windows with special characters in file names. Otherwise tested to work well on corpus with\n",
    "    a million files and up to 4 billion tokens\n",
    "    '''\n",
    "    if reset_graph is True:\n",
    "        tf.reset_default_graph()\n",
    "    \n",
    "    next_line = _add_vocab_file_generator(file_names)\n",
    "    \n",
    "    with tf.Session() as sess:\n",
    "        vocab = Counter()\n",
    "        logging.info('Start generating %s from %d files' % (vocabulary_file, len(file_names)))\n",
    "        start_time = time.time()\n",
    "        line_count = 0\n",
    "        word_count = 0\n",
    "        while True:\n",
    "            try:\n",
    "                word_list=next_line.eval()\n",
    "                vocab.update(word_list)\n",
    "                line_count +=1\n",
    "                word_count += len(word_list)\n",
    "                if line_count % 100000==0:\n",
    "                    logging.debug(\"%d lines and %d words processed\" % (line_count, word_count))\n",
    "            except tf.errors.OutOfRangeError:\n",
    "                logging.debug(\"Completed:%d lines and %d words processed\" % (line_count, word_count))\n",
    "                break\n",
    "        vocab = vocab.most_common(max_vocab_size)\n",
    "        with  codecs.getreader(\"utf-8\")(tf.gfile.GFile(vocabulary_file, \"w\")) as vocab_file:\n",
    "            if markers is True:\n",
    "                vocab_file.write('<PAD>\\n<UNK>\\n<SOS>\\n<EOS>\\n')\n",
    "            for item in vocab:\n",
    "                vocab_file.write(\"{}\\n\".format(item[0].decode('utf-8')))\n",
    "        logging.info('Completed generating %s in %d s' % (vocabulary_file, time.time()-start_time))\n",
    "        sess.close()"
   ]
  },
  {
   "cell_type": "code",
   "execution_count": 6,
   "metadata": {},
   "outputs": [
    {
     "name": "stderr",
     "output_type": "stream",
     "text": [
      "INFO:root:Start generating ./vocab.txt from 100 files\n",
      "DEBUG:root:100000 lines and 824751 words processed\n",
      "DEBUG:root:200000 lines and 1611987 words processed\n",
      "DEBUG:root:300000 lines and 2456566 words processed\n",
      "DEBUG:root:400000 lines and 3322237 words processed\n",
      "DEBUG:root:500000 lines and 4252535 words processed\n",
      "DEBUG:root:600000 lines and 5182090 words processed\n",
      "DEBUG:root:Completed:632977 lines and 5476590 words processed\n",
      "INFO:root:Completed generating ./vocab.txt in 72 s\n"
     ]
    }
   ],
   "source": [
    "logger = logging.getLogger()\n",
    "logger.setLevel(logging.DEBUG)\n",
    "# Path to corpus of text files\n",
    "data_dir = '../../data/Gutenberg/txt/'\n",
    "file_names = [os.path.join(data_dir,file) for file in os.listdir(data_dir) if '.txt' in file]\n",
    "#Generate vocabulary file\n",
    "gen_vocab_file(file_names[:100],reset_graph=True)"
   ]
  },
  {
   "cell_type": "code",
   "execution_count": null,
   "metadata": {
    "collapsed": true
   },
   "outputs": [],
   "source": []
  }
 ],
 "metadata": {
  "kernelspec": {
   "display_name": "Python 3",
   "language": "python",
   "name": "python3"
  },
  "language_info": {
   "codemirror_mode": {
    "name": "ipython",
    "version": 3
   },
   "file_extension": ".py",
   "mimetype": "text/x-python",
   "name": "python",
   "nbconvert_exporter": "python",
   "pygments_lexer": "ipython3",
   "version": "3.6.1"
  }
 },
 "nbformat": 4,
 "nbformat_minor": 2
}
